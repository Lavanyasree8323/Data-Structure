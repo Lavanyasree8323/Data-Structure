{
 "cells": [
  {
   "cell_type": "markdown",
   "id": "561a30fe",
   "metadata": {},
   "source": [
    "# DAY-32 SEP-16"
   ]
  },
  {
   "cell_type": "code",
   "execution_count": 1,
   "id": "7719b178",
   "metadata": {},
   "outputs": [],
   "source": [
    "\n",
    "# DATA STRUCTURE\n"
   ]
  },
  {
   "cell_type": "code",
   "execution_count": 2,
   "id": "16564188",
   "metadata": {},
   "outputs": [],
   "source": [
    "# ARRAY"
   ]
  },
  {
   "cell_type": "code",
   "execution_count": 3,
   "id": "66a1add0",
   "metadata": {},
   "outputs": [
    {
     "name": "stdout",
     "output_type": "stream",
     "text": [
      "Array is:\n",
      "array('i', [12, 23, 34, 56, 45, 67])\n",
      "<class 'array.array'>\n"
     ]
    }
   ],
   "source": [
    "import array as ary\n",
    "\n",
    "a = ary.array('i',[12,23,34,56,45,67])\n",
    "print('Array is:')\n",
    "print(a)\n",
    "print(type(a))\n",
    "\n"
   ]
  },
  {
   "cell_type": "code",
   "execution_count": 4,
   "id": "cb159b2d",
   "metadata": {},
   "outputs": [
    {
     "name": "stdout",
     "output_type": "stream",
     "text": [
      "Array is:\n",
      "array('f', [12.100000381469727, 23.200000762939453, 34.5, 56.599998474121094, 45.400001525878906, 67.69999694824219])\n",
      "<class 'array.array'>\n"
     ]
    }
   ],
   "source": [
    "a = ary.array('f',[12.1,23.2,34.5,56.6,45.4,67.7])\n",
    "print('Array is:')\n",
    "print(a)\n",
    "print(type(a))\n",
    "\n"
   ]
  },
  {
   "cell_type": "code",
   "execution_count": 5,
   "id": "99cbacbf",
   "metadata": {},
   "outputs": [
    {
     "name": "stdout",
     "output_type": "stream",
     "text": [
      "Array is:\n",
      "array('d', [12.1, 23.2, 34.5, 56.6, 45.4, 67.7])\n",
      "<class 'array.array'>\n"
     ]
    }
   ],
   "source": [
    "a = ary.array('d',[12.1,23.2,34.5,56.6,45.4,67.7])\n",
    "print('Array is:')\n",
    "print(a)\n",
    "print(type(a))\n",
    "\n"
   ]
  },
  {
   "cell_type": "code",
   "execution_count": 6,
   "id": "b56a5321",
   "metadata": {},
   "outputs": [
    {
     "name": "stdout",
     "output_type": "stream",
     "text": [
      "8\n",
      "2\n"
     ]
    }
   ],
   "source": [
    "a = ary.array('i',[12,23,34,56,57,45,57,67])\n",
    "print(len(a))\n",
    "print(a.count(57))\n"
   ]
  },
  {
   "cell_type": "code",
   "execution_count": 7,
   "id": "ea7fcbaa",
   "metadata": {},
   "outputs": [
    {
     "name": "stdout",
     "output_type": "stream",
     "text": [
      "Array is:\n",
      "array('u', 'BTS')\n",
      "B\n"
     ]
    }
   ],
   "source": [
    "# STRING - U - UNICODE CHARACTER\n",
    "\n",
    "from array import*\n",
    "\n",
    "a1= array('u',['B','T','S'])\n",
    "print('Array is:')\n",
    "print(a1)\n",
    "print(a1[0])\n",
    "\n"
   ]
  },
  {
   "cell_type": "code",
   "execution_count": 8,
   "id": "a9fef442",
   "metadata": {},
   "outputs": [
    {
     "name": "stdout",
     "output_type": "stream",
     "text": [
      "B\n",
      "T\n",
      "S\n"
     ]
    }
   ],
   "source": [
    "for ary in a1:\n",
    "    print(ary)\n",
    "\n",
    "\n"
   ]
  },
  {
   "cell_type": "code",
   "execution_count": 9,
   "id": "4485a073",
   "metadata": {},
   "outputs": [
    {
     "name": "stdout",
     "output_type": "stream",
     "text": [
      "array('u', 'BAT')\n"
     ]
    }
   ],
   "source": [
    "# Replacing the array element\n",
    "a2 =array('u',['B','U','T'])\n",
    "a2[1]='A'\n",
    "print(a2)"
   ]
  },
  {
   "cell_type": "code",
   "execution_count": 10,
   "id": "d2dd7dea",
   "metadata": {},
   "outputs": [
    {
     "name": "stdout",
     "output_type": "stream",
     "text": [
      "array('i', [12, 23, 34, 56, 57])\n",
      "4\n",
      "67\n"
     ]
    }
   ],
   "source": [
    "# SLICING\n",
    "\n",
    "a =array('i',[12,23,34,56,57,45,57,67])\n",
    "print(a[0:5])\n",
    "print(a.index(57))\n",
    "print(a[7])\n",
    "\n"
   ]
  },
  {
   "cell_type": "code",
   "execution_count": 11,
   "id": "f8d1478e",
   "metadata": {},
   "outputs": [
    {
     "name": "stdout",
     "output_type": "stream",
     "text": [
      "351\n",
      "67\n",
      "12\n"
     ]
    }
   ],
   "source": [
    "# SUM ,MAX,MIN\n",
    "\n",
    "\n",
    "a =array('i',[12,23,34,56,57,45,57,67])\n",
    "print(sum(a))\n",
    "print(max(a))\n",
    "print(min(a))\n"
   ]
  },
  {
   "cell_type": "code",
   "execution_count": 12,
   "id": "96d5fe09",
   "metadata": {},
   "outputs": [
    {
     "name": "stdout",
     "output_type": "stream",
     "text": [
      "array('i', [12, 23, 56, 57, 45, 57, 67])\n",
      "array('i', [12, 23, 56, 57, 45, 57])\n",
      "array('i', [12, 23, 56, 57, 57])\n"
     ]
    }
   ],
   "source": [
    "# DELET\n",
    "\n",
    "a =array('i',[12,23,34,56,57,45,57,67])\n",
    "\n",
    "del a[2]\n",
    "print(a)\n",
    "a.pop()\n",
    "print(a)\n",
    "a.remove(45)\n",
    "print(a)\n",
    "\n"
   ]
  },
  {
   "cell_type": "code",
   "execution_count": 3,
   "id": "90122c8f",
   "metadata": {},
   "outputs": [
    {
     "name": "stdout",
     "output_type": "stream",
     "text": [
      "Enter the marks:90,99,90,98,97\n",
      "90\n",
      "99\n",
      "90\n",
      "98\n",
      "97\n",
      "Total Marks: 474 out of 500\n",
      "percentage94.8%\n"
     ]
    }
   ],
   "source": [
    "# PYTHON PROGRAM TO STORE STUDENTS MARKS IN AARAY\n",
    "#FIND TOTAL MARKS & PERCENTAGE\n",
    "\n",
    "from array import*\n",
    "lst = [int(i) for i in input('Enter the marks:').split(',')]\n",
    "# create an integer array\n",
    "marks = array('i',lst)\n",
    "sum = 0\n",
    "for s in marks:\n",
    "    print(s)\n",
    "    sum+=s\n",
    "print('Total Marks:',sum, 'out of 500')\n",
    "\n",
    "# Display percentage\n",
    "t = len(marks)\n",
    "percentage = sum/t\n",
    "print(f'percentage{percentage}%')\n",
    "\n"
   ]
  },
  {
   "cell_type": "markdown",
   "id": "1fc751b1",
   "metadata": {},
   "source": [
    "# DAY -33 SEP-17\n"
   ]
  },
  {
   "cell_type": "code",
   "execution_count": 1,
   "id": "8a5aef07",
   "metadata": {},
   "outputs": [],
   "source": [
    "# Pylint - cmd (TO RECTIFY MISTAKES MARKS GIVEN BASED ON CODE QUALITY)\n",
    "# Pytest - Pycharm(TO CHECK WHETHER THE CODE IS TURE OR FALSE)\n"
   ]
  },
  {
   "cell_type": "markdown",
   "id": "93c23a83",
   "metadata": {},
   "source": [
    "# DAY-34 SEP-23"
   ]
  },
  {
   "cell_type": "code",
   "execution_count": 15,
   "id": "71feeb49",
   "metadata": {},
   "outputs": [],
   "source": [
    "# ALL ABOUT DATA STRUCTURE THEORY"
   ]
  },
  {
   "cell_type": "markdown",
   "id": "03b67d0f",
   "metadata": {},
   "source": [
    "# DAY -35 SEPT-24"
   ]
  },
  {
   "cell_type": "code",
   "execution_count": 16,
   "id": "4665af10",
   "metadata": {},
   "outputs": [
    {
     "name": "stdout",
     "output_type": "stream",
     "text": [
      "After adding the elements to the stack:\n",
      "[12, 34, 45, 56, 67, 78, 89]\n",
      "After removing the element from the stack:\n",
      "[12, 34, 45, 56, 67, 78]\n"
     ]
    }
   ],
   "source": [
    "# STACK - PUSH AND POP METHOD\n",
    "# IT IS IMPLEMENTED BY LIFO/FILO\n",
    "stack=[] # Creation of empty stack\n",
    "stack.append(12)\n",
    "stack.append(34)\n",
    "stack.append(45)\n",
    "stack.append(56)\n",
    "stack.append(67)\n",
    "stack.append(78)\n",
    "stack.append(89)\n",
    "print('After adding the elements to the stack:')\n",
    "print(stack)\n",
    "stack.pop()\n",
    "print('After removing the element from the stack:')\n",
    "print(stack)\n"
   ]
  },
  {
   "cell_type": "code",
   "execution_count": 17,
   "id": "723957a6",
   "metadata": {},
   "outputs": [
    {
     "name": "stdout",
     "output_type": "stream",
     "text": [
      "Initial stack is:\n",
      "deque([12, 34, 45, 56, 67, 78, 89])\n",
      "***********************************\n",
      "\n",
      "Elements popped from the stack:\n",
      "89\n",
      "78\n",
      "***********************************\n",
      "\n",
      "stack after elements are popped:\n",
      "deque([12, 34, 45, 56, 67])\n"
     ]
    }
   ],
   "source": [
    "# Implementation using collections deque\n",
    "# PYTHON STACK CAN BE IMPLEMENTED USING THE DEQUE DROM THE COLLECTIONS MODULE.\n",
    "\n",
    "from collections import deque\n",
    "stack=deque()\n",
    "# append function to push(add)\n",
    "\n",
    "stack.append(12)\n",
    "stack.append(34)\n",
    "stack.append(45)\n",
    "stack.append(56)\n",
    "stack.append(67)\n",
    "stack.append(78)\n",
    "stack.append(89)\n",
    "print('Initial stack is:')\n",
    "print(stack)\n",
    "print('*'*35)\n",
    "print('\\nElements popped from the stack:')\n",
    "print(stack.pop())\n",
    "print(stack.pop())\n",
    "print('*'*35)\n",
    "print('\\nstack after elements are popped:')\n",
    "print(stack)\n"
   ]
  },
  {
   "cell_type": "code",
   "execution_count": 18,
   "id": "a6811dbd",
   "metadata": {},
   "outputs": [
    {
     "name": "stdout",
     "output_type": "stream",
     "text": [
      "0\n",
      "Full: True\n",
      "Size: 5\n",
      "\n",
      " Elements popped from the stack:\n",
      "99\n",
      "88\n",
      "77\n",
      "66\n",
      "55\n",
      "\n",
      " Empty: True\n"
     ]
    }
   ],
   "source": [
    "# PYTHON PROGRAM TO DEMONSTRATE STACK\n",
    "# STACK IMPLEMENTATION USING QUEUE MODULE\n",
    "\n",
    "from queue import LifoQueue\n",
    "# Initializing a stack\n",
    "stack=LifoQueue(maxsize=5)\n",
    "# qsize - Shows the number of elements in the stack\n",
    "print(stack.qsize())\n",
    "#put- Function to push element in the stack\n",
    "stack.put(55)\n",
    "stack.put(66)\n",
    "stack.put(77)\n",
    "stack.put(88)\n",
    "stack.put(99)\n",
    "print('Full:',stack.full())\n",
    "print('Size:',stack.qsize())\n",
    "#get- Function to pop element from the stack in LIFO order\n",
    "print('\\n Elements popped from the stack:')\n",
    "print(stack.get())\n",
    "print(stack.get())\n",
    "print(stack.get())\n",
    "print(stack.get())\n",
    "print(stack.get())\n",
    "print('\\n Empty:',stack.empty())\n",
    "\n"
   ]
  },
  {
   "cell_type": "markdown",
   "id": "49ed0b95",
   "metadata": {},
   "source": [
    "# DAY-36,37 - PYCHARM QUE, STACK"
   ]
  },
  {
   "cell_type": "markdown",
   "id": "04dfab2b",
   "metadata": {},
   "source": [
    "# DAY - 38   OCT-8"
   ]
  },
  {
   "cell_type": "markdown",
   "id": "26764333",
   "metadata": {},
   "source": [
    " #  Linked list"
   ]
  },
  {
   "cell_type": "code",
   "execution_count": 5,
   "id": "3548a74a",
   "metadata": {},
   "outputs": [
    {
     "name": "stdout",
     "output_type": "stream",
     "text": [
      "The existin list ['Artho', 'Noodles', 'Paani puri', 'Mushroom']\n",
      "LINKED LIST OPERATIONS\n",
      "1. Insert element\n",
      "2. Remove element\n",
      "3. Replace element\n",
      "4. Search for element\n",
      "5. Exit\n",
      "Enter your choice:1\n",
      "Entert the element to be inserted:Banana Milkshake\n",
      "At which position?:1\n",
      "LINKED LIST OPERATIONS\n",
      "1. Insert element\n",
      "2. Remove element\n",
      "3. Replace element\n",
      "4. Search for element\n",
      "5. Exit\n",
      "Enter your choice:2\n",
      "Enter the element to be removed:Noodles\n",
      "LINKED LIST OPERATIONS\n",
      "1. Insert element\n",
      "2. Remove element\n",
      "3. Replace element\n",
      "4. Search for element\n",
      "5. Exit\n",
      "Enter your choice:3\n",
      "Enter the new element to be replaced:Mango juice\n",
      "At which position?:0\n",
      "LINKED LIST OPERATIONS\n",
      "1. Insert element\n",
      "2. Remove element\n",
      "3. Replace element\n",
      "4. Search for element\n",
      "5. Exit\n",
      "Enter your choice:4\n",
      "Enter the to be searched:Paani puri\n",
      "Element found at the posiion: 2\n",
      "LINKED LIST OPERATIONS\n",
      "1. Insert element\n",
      "2. Remove element\n",
      "3. Replace element\n",
      "4. Search for element\n",
      "5. Exit\n",
      "Enter your choice:5\n",
      "List: ['Mango juice', 'Banana Milkshake', 'Paani puri', 'Mushroom']\n"
     ]
    }
   ],
   "source": [
    "# Creating a empty Linked list\n",
    "li=[]\n",
    "# add some string type elements to the list\n",
    "li.append('Artho')\n",
    "li.append('Noodles')\n",
    "li.append('Paani puri')\n",
    "li.append('Mushroom')\n",
    "# display the list\n",
    "print('The existin list',li)\n",
    "# display the Linked list elements using the menu\n",
    "choice=0\n",
    "while choice <5:\n",
    "    print('LINKED LIST OPERATIONS')\n",
    "    print('1. Insert element')\n",
    "    print('2. Remove element')\n",
    "    print('3. Replace element')\n",
    "    print('4. Search for element')\n",
    "    print('5. Exit')\n",
    "    choice=int(input('Enter your choice:'))\n",
    "    # Perform task depending on user choice\n",
    "    if choice==1:\n",
    "        element=input('Entert the element to be inserted:')\n",
    "        pos=int(input('At which position?:'))\n",
    "        li.insert(pos,element)\n",
    "    elif choice==2:\n",
    "        try:\n",
    "            element=input('Enter the element to be removed:')\n",
    "            li.remove(element)\n",
    "        except ValueError:\n",
    "            print('Element not found')\n",
    "    elif choice==3:\n",
    "        element=input('Enter the new element to be replaced:')\n",
    "        pos=int(input('At which position?:'))\n",
    "        li.pop(pos)\n",
    "        li.insert(pos,element)\n",
    "    elif choice==4:\n",
    "        element=input('Enter the to be searched:')\n",
    "        try:\n",
    "            pos=li.index(element)\n",
    "            print('Element found at the posiion:',pos)\n",
    "        except ValueError:\n",
    "            print('Element not found')\n",
    "    else:\n",
    "        break\n",
    "    \n",
    "# Display the list elements\n",
    "print('List:',li)"
   ]
  },
  {
   "cell_type": "markdown",
   "id": "408c0b61",
   "metadata": {},
   "source": [
    "# DAY-39 OCT-14"
   ]
  },
  {
   "cell_type": "code",
   "execution_count": 8,
   "id": "41cd6cc8",
   "metadata": {},
   "outputs": [
    {
     "name": "stdout",
     "output_type": "stream",
     "text": [
      "1\n",
      "2\n",
      "3\n",
      "None\n",
      "None\n"
     ]
    }
   ],
   "source": [
    "class HashTable:\n",
    "    def __init__ (self):\n",
    "        self.table={}\n",
    "    def hash_function (self,key):\n",
    "        # GENERATE A HASH VALUE BASED ON THE KEY \n",
    "        # IN THIS EXAMPLE, WE'LL USE THE BUILT-IN HASH() FUNCTION\n",
    "        return hash(key)\n",
    "    def insert(self,key,value):\n",
    "        # COMPUTE THE HASH VALUE FOR THE KEY\n",
    "        hash_value=self.hash_function(key)\n",
    "        # INSERT THE KEY-VALUE PAIR INTO THE HASH TABLE\n",
    "        self.table[hash_value]=value\n",
    "    def search (self,key):\n",
    "        # COMPUTE THE HASH VALUE FOR THE KEY \n",
    "        hash_value=self.hash_function(key)\n",
    "        # RETURN THE VALUE ASSOCIATED WITH THE KEY IF FOUND, OTHERWISE RETURN NONE\n",
    "        return self.table.get(hash_value)\n",
    "    def delete(self,key):\n",
    "        # COMPUTE THE HASH VALUE FOR THE KEY\n",
    "        hash_value=self.hash_function(key)\n",
    "        # DELETE THE KEY-VALUE PAIR FROM THE HASH TABLE IF IT EXISTS\n",
    "        if hash_value in self.table:\n",
    "            del self.table[hash_value]\n",
    "# Example usage\n",
    "hash_table= HashTable() # CREATION OF OBJECT FOR CLASSSNAME 'HashTable()'\n",
    "hash_table.insert('Bajji',1)\n",
    "hash_table.insert('Bonda',2)\n",
    "hash_table.insert('Oreo',3)\n",
    "print(hash_table.search('Bajji'))\n",
    "print(hash_table.search('Bonda'))\n",
    "print(hash_table.search('Oreo'))\n",
    "print(hash_table.search('Ramen'))\n",
    "hash_table.delete('Bonda')\n",
    "print(hash_table.search('Bonda'))\n",
    "\n",
    "\n",
    "    "
   ]
  },
  {
   "cell_type": "code",
   "execution_count": 18,
   "id": "bc58a63d",
   "metadata": {},
   "outputs": [
    {
     "name": "stdout",
     "output_type": "stream",
     "text": [
      "1\n",
      "2\n",
      "3\n",
      "4\n",
      "1\n"
     ]
    }
   ],
   "source": [
    "class HashTable:\n",
    "    def __init__(self):\n",
    "        self.size=10 # Initialize size of the hash table\n",
    "        self.table= [None]*self.size\n",
    "        \n",
    "    def _hash_function(self,key):\n",
    "        # Hash function to generate an index from a given key\n",
    "        hash_value=0\n",
    "        for char in str(key):\n",
    "            hash_value+=ord(char)\n",
    "        return hash_value % self.size\n",
    "    \n",
    "    def insert (self,key,value):\n",
    "        #Insert a key-value pair into the hash table\n",
    "        index=self._hash_function(key)\n",
    "        if self.table[index] is None:\n",
    "            self.table[index]=[(key,value)]\n",
    "        else:\n",
    "            for i ,(existing_key,_) in enumerate(self.table[index]):\n",
    "                if existing_key==key:\n",
    "                    self.table[index][i]=(key,value) # update value if key alredy exists\n",
    "                    break\n",
    "                else:\n",
    "                    self.table[index].append((key,value))\n",
    "                    \n",
    "                    \n",
    "    def get(self,key):\n",
    "        # Returns the value associated with a given key\n",
    "        index=self._hash_function(key)\n",
    "        if self.table[index] is not None:\n",
    "            for existing_key,value in self.table[index]:\n",
    "                if existing_key==key:\n",
    "                    return value\n",
    "        raise KeyError(f\"Key '{key}' not found in the hash table;\")\n",
    "        \n",
    "    def remove(self,key):\n",
    "        # Removes a key-value pair from the hash table\n",
    "        index=self._hash_function(key)\n",
    "        if self.table[index] is not None:\n",
    "            for i,(existing_key,_) in enumerate(self.table[index]):\n",
    "                if existing_key==key:\n",
    "                    del self.table[index][i]\n",
    "                    return\n",
    "        raise KeyError(f\"key '{key}' not found in the hash table\")\n",
    "        \n",
    "    \n",
    "hash_table=HashTable()\n",
    "\n",
    "hash_table.insert('Black',1)\n",
    "hash_table.insert('Blue',2)\n",
    "hash_table.insert('Pink',3)\n",
    "hash_table.insert('Red',4)\n",
    "\n",
    "print(hash_table.get('Black'))\n",
    "print(hash_table.get('Blue'))\n",
    "print(hash_table.get('Pink'))\n",
    "print(hash_table.get('Red'))\n",
    "\n",
    "hash_table.remove('Pink')\n",
    "print(hash_table.get('Black')) # Output: KeyError:'key'Black' not found in the hash table'\n"
   ]
  },
  {
   "cell_type": "code",
   "execution_count": 20,
   "id": "373da2ab",
   "metadata": {},
   "outputs": [
    {
     "name": "stdout",
     "output_type": "stream",
     "text": [
      "<map object at 0x000002A6B0935630>\n",
      "{2, 4, 6, 8, 10}\n"
     ]
    }
   ],
   "source": [
    "def calculateAddition(n):\n",
    "    return n+n\n",
    "\n",
    "numbers=(1,2,3,4,5)\n",
    "result=map(calculateAddition,numbers)\n",
    "print(result)\n",
    "\n",
    "# Converting map object to see\n",
    "numbersAddition= set(result)\n",
    "print(numbersAddition)"
   ]
  },
  {
   "cell_type": "code",
   "execution_count": 21,
   "id": "3a6ebd1c",
   "metadata": {},
   "outputs": [
    {
     "name": "stdout",
     "output_type": "stream",
     "text": [
      "<map object at 0x000002A6B0861F30>\n",
      "[2, 4, 6, 8, 10]\n"
     ]
    }
   ],
   "source": [
    "def calculateAddition(n):\n",
    "    return n+n\n",
    "\n",
    "numbers=(1,2,3,4,5)\n",
    "result=map(calculateAddition,numbers)\n",
    "print(result)\n",
    "\n",
    "# Converting map object to see\n",
    "numbersAddition= list(result)\n",
    "print(numbersAddition)"
   ]
  },
  {
   "cell_type": "code",
   "execution_count": 24,
   "id": "d885a8dc",
   "metadata": {},
   "outputs": [
    {
     "name": "stdout",
     "output_type": "stream",
     "text": [
      "<map object at 0x000002A6B09355A0>\n",
      "{0}\n"
     ]
    }
   ],
   "source": [
    "numbers = (1,2,3,4,5,6,7)\n",
    "result = map(lambda x:x-x, numbers)\n",
    "print(result)\n",
    "\n",
    "# Converting map object to set\n",
    "numbersSubstract = set(result)\n",
    "print(numbersSubstract)"
   ]
  },
  {
   "cell_type": "code",
   "execution_count": 26,
   "id": "a6d3be71",
   "metadata": {},
   "outputs": [
    {
     "name": "stdout",
     "output_type": "stream",
     "text": [
      "<map object at 0x000002A6B09379A0>\n",
      "[1, 4, 9, 16, 25, 36, 49]\n"
     ]
    }
   ],
   "source": [
    "numbers = (1,2,3,4,5,6,7)\n",
    "result = map(lambda x:x*x, numbers)\n",
    "print(result)\n",
    "\n",
    "# Converting map object to set\n",
    "numbersMultiple = list(result)\n",
    "print(numbersMultiple)"
   ]
  },
  {
   "cell_type": "code",
   "execution_count": 27,
   "id": "2a63e99d",
   "metadata": {},
   "outputs": [
    {
     "name": "stdout",
     "output_type": "stream",
     "text": [
      "[3, 5, 7]\n"
     ]
    }
   ],
   "source": [
    "num1=[1,2,3]\n",
    "num2=[2,3,4]\n",
    "\n",
    "result=map(lambda n1,n2: n1+n2, num1, num2)\n",
    "print(list(result))"
   ]
  },
  {
   "cell_type": "code",
   "execution_count": 34,
   "id": "8e98ae4b",
   "metadata": {
    "scrolled": true
   },
   "outputs": [
    {
     "name": "stdout",
     "output_type": "stream",
     "text": [
      "[1, 4, 9, 16, 25, 36, 49]\n",
      "HELLO\n"
     ]
    }
   ],
   "source": [
    "def square(x):\n",
    "    return x**2\n",
    "    \n",
    "# Example 1: using map with a list\n",
    "numbers=[1,2,3,4,5,6,7]\n",
    "squared_numbers=map(square,numbers)\n",
    "print(list(squared_numbers)) \n",
    "\n",
    "\n",
    "# Example 2: Using map with a string\n",
    "word='Hello'\n",
    "uppercase_letters=map(str.upper,word)\n",
    "print(''.join (uppercase_letters))"
   ]
  },
  {
   "cell_type": "code",
   "execution_count": 4,
   "id": "3c74df5f",
   "metadata": {},
   "outputs": [],
   "source": [
    "import pickle\n",
    "P=[1,2,3,4,5,6,7]\n",
    "file='demo.pkl'\n",
    "f=open(file,'wb')\n",
    "pickle.dump(P,f)\n",
    "f.close()\n",
    "\n"
   ]
  }
 ],
 "metadata": {
  "kernelspec": {
   "display_name": "Python 3 (ipykernel)",
   "language": "python",
   "name": "python3"
  },
  "language_info": {
   "codemirror_mode": {
    "name": "ipython",
    "version": 3
   },
   "file_extension": ".py",
   "mimetype": "text/x-python",
   "name": "python",
   "nbconvert_exporter": "python",
   "pygments_lexer": "ipython3",
   "version": "3.11.3"
  }
 },
 "nbformat": 4,
 "nbformat_minor": 5
}
